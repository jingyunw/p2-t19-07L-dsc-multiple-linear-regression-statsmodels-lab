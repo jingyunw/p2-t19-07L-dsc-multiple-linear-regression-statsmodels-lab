{
 "cells": [
  {
   "cell_type": "markdown",
   "metadata": {},
   "source": [
    "# Multiple Linear Regression in Statsmodels - Lab"
   ]
  },
  {
   "cell_type": "markdown",
   "metadata": {},
   "source": [
    "## Introduction\n",
    "In this lab, you'll practice fitting a multiple linear regression model on the Ames Housing dataset!"
   ]
  },
  {
   "cell_type": "markdown",
   "metadata": {},
   "source": [
    "## Objectives\n",
    "You will be able to:\n",
    "* Determine if it is necessary to perform normalization/standardization for a specific model or set of data\n",
    "* Use standardization/normalization on features of a dataset\n",
    "* Identify if it is necessary to perform log transformations on a set of features\n",
    "* Perform log transformations on different features of a dataset\n",
    "* Use statsmodels to fit a multiple linear regression model\n",
    "* Evaluate a linear regression model by using statistical performance metrics pertaining to overall model and specific parameters\n"
   ]
  },
  {
   "cell_type": "markdown",
   "metadata": {},
   "source": [
    "## The Ames Housing Data"
   ]
  },
  {
   "cell_type": "markdown",
   "metadata": {},
   "source": [
    "Using the specified continuous and categorical features, preprocess your data to prepare for modeling:\n",
    "* Split off and one hot encode the categorical features of interest\n",
    "* Log and scale the selected continuous features"
   ]
  },
  {
   "cell_type": "code",
   "execution_count": 1,
   "metadata": {},
   "outputs": [],
   "source": [
    "import pandas as pd\n",
    "import numpy as np\n",
    "import matplotlib.pyplot as plt\n",
    "%matplotlib inline\n",
    "\n",
    "ames = pd.read_csv('ames.csv')\n",
    "\n",
    "continuous = ['LotArea', '1stFlrSF', 'GrLivArea']\n",
    "\n",
    "categoricals = ['BldgType', 'KitchenQual', 'SaleType', 'MSZoning', 'Street', 'Neighborhood']\n",
    "\n",
    "target = ['SalePrice']"
   ]
  },
  {
   "cell_type": "markdown",
   "metadata": {},
   "source": [
    "## Continuous Features"
   ]
  },
  {
   "cell_type": "code",
   "execution_count": 2,
   "metadata": {},
   "outputs": [],
   "source": [
    "# Log transform and normalize\n",
    "ames_cont = ames[continuous]\n",
    "ames_log = np.log(ames_cont)\n",
    "\n",
    "log_names = [f'{column}_log' for column in ames_cont.columns]\n",
    "# ames_log.columns = log_names"
   ]
  },
  {
   "cell_type": "code",
   "execution_count": 3,
   "metadata": {},
   "outputs": [
    {
     "data": {
      "text/plain": [
       "['LotArea_log', '1stFlrSF_log', 'GrLivArea_log']"
      ]
     },
     "execution_count": 3,
     "metadata": {},
     "output_type": "execute_result"
    }
   ],
   "source": [
    "log_names"
   ]
  },
  {
   "cell_type": "code",
   "execution_count": 4,
   "metadata": {},
   "outputs": [],
   "source": [
    "# Standardization\n",
    "# def normalize(feature):\n",
    "#     return (feature - feature.mean()) / feature.std()\n",
    "\n",
    "# ames_log_norm = ames_log.apply(normalize)"
   ]
  },
  {
   "cell_type": "code",
   "execution_count": 5,
   "metadata": {},
   "outputs": [],
   "source": [
    "# normalize (subract mean and divide by std)\n",
    "# but let's use sklearn plz\n",
    "\n",
    "from sklearn.preprocessing import StandardScaler\n",
    "scaler = StandardScaler()\n",
    "\n",
    "ames_log_norm = scaler.fit_transform(ames_log)"
   ]
  },
  {
   "cell_type": "code",
   "execution_count": 6,
   "metadata": {},
   "outputs": [],
   "source": [
    "# Making into a df again...\n",
    "ames_log_norm = pd.DataFrame(ames_log_norm, columns = log_names)"
   ]
  },
  {
   "cell_type": "markdown",
   "metadata": {},
   "source": [
    "## Categorical Features"
   ]
  },
  {
   "cell_type": "code",
   "execution_count": 7,
   "metadata": {},
   "outputs": [],
   "source": [
    "# One hot encode categoricals\n",
    "ames_ohe = pd.get_dummies(ames[categoricals], prefix=categoricals, drop_first=True)"
   ]
  },
  {
   "cell_type": "markdown",
   "metadata": {},
   "source": [
    "## Combine Categorical and Continuous Features"
   ]
  },
  {
   "cell_type": "code",
   "execution_count": 8,
   "metadata": {},
   "outputs": [
    {
     "data": {
      "text/html": [
       "<div>\n",
       "<style scoped>\n",
       "    .dataframe tbody tr th:only-of-type {\n",
       "        vertical-align: middle;\n",
       "    }\n",
       "\n",
       "    .dataframe tbody tr th {\n",
       "        vertical-align: top;\n",
       "    }\n",
       "\n",
       "    .dataframe thead th {\n",
       "        text-align: right;\n",
       "    }\n",
       "</style>\n",
       "<table border=\"1\" class=\"dataframe\">\n",
       "  <thead>\n",
       "    <tr style=\"text-align: right;\">\n",
       "      <th></th>\n",
       "      <th>LotArea_log</th>\n",
       "      <th>1stFlrSF_log</th>\n",
       "      <th>GrLivArea_log</th>\n",
       "      <th>BldgType_2fmCon</th>\n",
       "      <th>BldgType_Duplex</th>\n",
       "      <th>BldgType_Twnhs</th>\n",
       "      <th>BldgType_TwnhsE</th>\n",
       "      <th>KitchenQual_Fa</th>\n",
       "      <th>KitchenQual_Gd</th>\n",
       "      <th>KitchenQual_TA</th>\n",
       "      <th>...</th>\n",
       "      <th>Neighborhood_NoRidge</th>\n",
       "      <th>Neighborhood_NridgHt</th>\n",
       "      <th>Neighborhood_OldTown</th>\n",
       "      <th>Neighborhood_SWISU</th>\n",
       "      <th>Neighborhood_Sawyer</th>\n",
       "      <th>Neighborhood_SawyerW</th>\n",
       "      <th>Neighborhood_Somerst</th>\n",
       "      <th>Neighborhood_StoneBr</th>\n",
       "      <th>Neighborhood_Timber</th>\n",
       "      <th>Neighborhood_Veenker</th>\n",
       "    </tr>\n",
       "  </thead>\n",
       "  <tbody>\n",
       "    <tr>\n",
       "      <th>0</th>\n",
       "      <td>-0.133231</td>\n",
       "      <td>-0.803570</td>\n",
       "      <td>0.529260</td>\n",
       "      <td>0</td>\n",
       "      <td>0</td>\n",
       "      <td>0</td>\n",
       "      <td>0</td>\n",
       "      <td>0</td>\n",
       "      <td>1</td>\n",
       "      <td>0</td>\n",
       "      <td>...</td>\n",
       "      <td>0</td>\n",
       "      <td>0</td>\n",
       "      <td>0</td>\n",
       "      <td>0</td>\n",
       "      <td>0</td>\n",
       "      <td>0</td>\n",
       "      <td>0</td>\n",
       "      <td>0</td>\n",
       "      <td>0</td>\n",
       "      <td>0</td>\n",
       "    </tr>\n",
       "    <tr>\n",
       "      <th>1</th>\n",
       "      <td>0.113442</td>\n",
       "      <td>0.418585</td>\n",
       "      <td>-0.381846</td>\n",
       "      <td>0</td>\n",
       "      <td>0</td>\n",
       "      <td>0</td>\n",
       "      <td>0</td>\n",
       "      <td>0</td>\n",
       "      <td>0</td>\n",
       "      <td>1</td>\n",
       "      <td>...</td>\n",
       "      <td>0</td>\n",
       "      <td>0</td>\n",
       "      <td>0</td>\n",
       "      <td>0</td>\n",
       "      <td>0</td>\n",
       "      <td>0</td>\n",
       "      <td>0</td>\n",
       "      <td>0</td>\n",
       "      <td>0</td>\n",
       "      <td>1</td>\n",
       "    </tr>\n",
       "    <tr>\n",
       "      <th>2</th>\n",
       "      <td>0.420061</td>\n",
       "      <td>-0.576560</td>\n",
       "      <td>0.659675</td>\n",
       "      <td>0</td>\n",
       "      <td>0</td>\n",
       "      <td>0</td>\n",
       "      <td>0</td>\n",
       "      <td>0</td>\n",
       "      <td>1</td>\n",
       "      <td>0</td>\n",
       "      <td>...</td>\n",
       "      <td>0</td>\n",
       "      <td>0</td>\n",
       "      <td>0</td>\n",
       "      <td>0</td>\n",
       "      <td>0</td>\n",
       "      <td>0</td>\n",
       "      <td>0</td>\n",
       "      <td>0</td>\n",
       "      <td>0</td>\n",
       "      <td>0</td>\n",
       "    </tr>\n",
       "    <tr>\n",
       "      <th>3</th>\n",
       "      <td>0.103347</td>\n",
       "      <td>-0.439287</td>\n",
       "      <td>0.541511</td>\n",
       "      <td>0</td>\n",
       "      <td>0</td>\n",
       "      <td>0</td>\n",
       "      <td>0</td>\n",
       "      <td>0</td>\n",
       "      <td>1</td>\n",
       "      <td>0</td>\n",
       "      <td>...</td>\n",
       "      <td>0</td>\n",
       "      <td>0</td>\n",
       "      <td>0</td>\n",
       "      <td>0</td>\n",
       "      <td>0</td>\n",
       "      <td>0</td>\n",
       "      <td>0</td>\n",
       "      <td>0</td>\n",
       "      <td>0</td>\n",
       "      <td>0</td>\n",
       "    </tr>\n",
       "    <tr>\n",
       "      <th>4</th>\n",
       "      <td>0.878409</td>\n",
       "      <td>0.112267</td>\n",
       "      <td>1.282191</td>\n",
       "      <td>0</td>\n",
       "      <td>0</td>\n",
       "      <td>0</td>\n",
       "      <td>0</td>\n",
       "      <td>0</td>\n",
       "      <td>1</td>\n",
       "      <td>0</td>\n",
       "      <td>...</td>\n",
       "      <td>1</td>\n",
       "      <td>0</td>\n",
       "      <td>0</td>\n",
       "      <td>0</td>\n",
       "      <td>0</td>\n",
       "      <td>0</td>\n",
       "      <td>0</td>\n",
       "      <td>0</td>\n",
       "      <td>0</td>\n",
       "      <td>0</td>\n",
       "    </tr>\n",
       "  </tbody>\n",
       "</table>\n",
       "<p>5 rows × 47 columns</p>\n",
       "</div>"
      ],
      "text/plain": [
       "   LotArea_log  1stFlrSF_log  GrLivArea_log  BldgType_2fmCon  BldgType_Duplex  \\\n",
       "0    -0.133231     -0.803570       0.529260                0                0   \n",
       "1     0.113442      0.418585      -0.381846                0                0   \n",
       "2     0.420061     -0.576560       0.659675                0                0   \n",
       "3     0.103347     -0.439287       0.541511                0                0   \n",
       "4     0.878409      0.112267       1.282191                0                0   \n",
       "\n",
       "   BldgType_Twnhs  BldgType_TwnhsE  KitchenQual_Fa  KitchenQual_Gd  \\\n",
       "0               0                0               0               1   \n",
       "1               0                0               0               0   \n",
       "2               0                0               0               1   \n",
       "3               0                0               0               1   \n",
       "4               0                0               0               1   \n",
       "\n",
       "   KitchenQual_TA  ...  Neighborhood_NoRidge  Neighborhood_NridgHt  \\\n",
       "0               0  ...                     0                     0   \n",
       "1               1  ...                     0                     0   \n",
       "2               0  ...                     0                     0   \n",
       "3               0  ...                     0                     0   \n",
       "4               0  ...                     1                     0   \n",
       "\n",
       "   Neighborhood_OldTown  Neighborhood_SWISU  Neighborhood_Sawyer  \\\n",
       "0                     0                   0                    0   \n",
       "1                     0                   0                    0   \n",
       "2                     0                   0                    0   \n",
       "3                     0                   0                    0   \n",
       "4                     0                   0                    0   \n",
       "\n",
       "   Neighborhood_SawyerW  Neighborhood_Somerst  Neighborhood_StoneBr  \\\n",
       "0                     0                     0                     0   \n",
       "1                     0                     0                     0   \n",
       "2                     0                     0                     0   \n",
       "3                     0                     0                     0   \n",
       "4                     0                     0                     0   \n",
       "\n",
       "   Neighborhood_Timber  Neighborhood_Veenker  \n",
       "0                    0                     0  \n",
       "1                    0                     1  \n",
       "2                    0                     0  \n",
       "3                    0                     0  \n",
       "4                    0                     0  \n",
       "\n",
       "[5 rows x 47 columns]"
      ]
     },
     "execution_count": 8,
     "metadata": {},
     "output_type": "execute_result"
    }
   ],
   "source": [
    "# combine features into a single dataframe called preprocessed\n",
    "preprocessed = pd.concat([ames_log_norm, ames_ohe], axis=1)\n",
    "preprocessed.head()"
   ]
  },
  {
   "cell_type": "markdown",
   "metadata": {},
   "source": [
    "## Run a linear model with SalePrice as the target variable in statsmodels"
   ]
  },
  {
   "cell_type": "code",
   "execution_count": 9,
   "metadata": {},
   "outputs": [],
   "source": [
    "import statsmodels.api as sm"
   ]
  },
  {
   "cell_type": "code",
   "execution_count": 10,
   "metadata": {},
   "outputs": [],
   "source": [
    "X = preprocessed\n",
    "y = np.log(ames[target]) # logging target"
   ]
  },
  {
   "cell_type": "code",
   "execution_count": 11,
   "metadata": {
    "scrolled": false
   },
   "outputs": [
    {
     "name": "stderr",
     "output_type": "stream",
     "text": [
      "/opt/anaconda3/envs/learn-env/lib/python3.6/site-packages/numpy/core/fromnumeric.py:2580: FutureWarning: Method .ptp is deprecated and will be removed in a future version. Use numpy.ptp instead.\n",
      "  return ptp(axis=axis, out=out, **kwargs)\n"
     ]
    },
    {
     "data": {
      "text/html": [
       "<table class=\"simpletable\">\n",
       "<caption>OLS Regression Results</caption>\n",
       "<tr>\n",
       "  <th>Dep. Variable:</th>        <td>SalePrice</td>    <th>  R-squared:         </th> <td>   0.839</td>\n",
       "</tr>\n",
       "<tr>\n",
       "  <th>Model:</th>                   <td>OLS</td>       <th>  Adj. R-squared:    </th> <td>   0.834</td>\n",
       "</tr>\n",
       "<tr>\n",
       "  <th>Method:</th>             <td>Least Squares</td>  <th>  F-statistic:       </th> <td>   156.5</td>\n",
       "</tr>\n",
       "<tr>\n",
       "  <th>Date:</th>             <td>Wed, 06 Jan 2021</td> <th>  Prob (F-statistic):</th>  <td>  0.00</td> \n",
       "</tr>\n",
       "<tr>\n",
       "  <th>Time:</th>                 <td>16:30:47</td>     <th>  Log-Likelihood:    </th> <td>  601.65</td>\n",
       "</tr>\n",
       "<tr>\n",
       "  <th>No. Observations:</th>      <td>  1460</td>      <th>  AIC:               </th> <td>  -1107.</td>\n",
       "</tr>\n",
       "<tr>\n",
       "  <th>Df Residuals:</th>          <td>  1412</td>      <th>  BIC:               </th> <td>  -853.6</td>\n",
       "</tr>\n",
       "<tr>\n",
       "  <th>Df Model:</th>              <td>    47</td>      <th>                     </th>     <td> </td>   \n",
       "</tr>\n",
       "<tr>\n",
       "  <th>Covariance Type:</th>      <td>nonrobust</td>    <th>                     </th>     <td> </td>   \n",
       "</tr>\n",
       "</table>\n",
       "<table class=\"simpletable\">\n",
       "<tr>\n",
       "            <td></td>              <th>coef</th>     <th>std err</th>      <th>t</th>      <th>P>|t|</th>  <th>[0.025</th>    <th>0.975]</th>  \n",
       "</tr>\n",
       "<tr>\n",
       "  <th>const</th>                <td>   11.9714</td> <td>    0.105</td> <td>  113.842</td> <td> 0.000</td> <td>   11.765</td> <td>   12.178</td>\n",
       "</tr>\n",
       "<tr>\n",
       "  <th>LotArea_log</th>          <td>    0.0412</td> <td>    0.008</td> <td>    5.475</td> <td> 0.000</td> <td>    0.026</td> <td>    0.056</td>\n",
       "</tr>\n",
       "<tr>\n",
       "  <th>1stFlrSF_log</th>         <td>    0.0548</td> <td>    0.006</td> <td>    8.584</td> <td> 0.000</td> <td>    0.042</td> <td>    0.067</td>\n",
       "</tr>\n",
       "<tr>\n",
       "  <th>GrLivArea_log</th>        <td>    0.1505</td> <td>    0.006</td> <td>   24.114</td> <td> 0.000</td> <td>    0.138</td> <td>    0.163</td>\n",
       "</tr>\n",
       "<tr>\n",
       "  <th>BldgType_2fmCon</th>      <td>   -0.0685</td> <td>    0.032</td> <td>   -2.173</td> <td> 0.030</td> <td>   -0.130</td> <td>   -0.007</td>\n",
       "</tr>\n",
       "<tr>\n",
       "  <th>BldgType_Duplex</th>      <td>   -0.1679</td> <td>    0.025</td> <td>   -6.813</td> <td> 0.000</td> <td>   -0.216</td> <td>   -0.120</td>\n",
       "</tr>\n",
       "<tr>\n",
       "  <th>BldgType_Twnhs</th>       <td>   -0.0561</td> <td>    0.037</td> <td>   -1.513</td> <td> 0.130</td> <td>   -0.129</td> <td>    0.017</td>\n",
       "</tr>\n",
       "<tr>\n",
       "  <th>BldgType_TwnhsE</th>      <td>   -0.0205</td> <td>    0.024</td> <td>   -0.858</td> <td> 0.391</td> <td>   -0.067</td> <td>    0.026</td>\n",
       "</tr>\n",
       "<tr>\n",
       "  <th>KitchenQual_Fa</th>       <td>   -0.3994</td> <td>    0.035</td> <td>  -11.315</td> <td> 0.000</td> <td>   -0.469</td> <td>   -0.330</td>\n",
       "</tr>\n",
       "<tr>\n",
       "  <th>KitchenQual_Gd</th>       <td>   -0.1526</td> <td>    0.020</td> <td>   -7.613</td> <td> 0.000</td> <td>   -0.192</td> <td>   -0.113</td>\n",
       "</tr>\n",
       "<tr>\n",
       "  <th>KitchenQual_TA</th>       <td>   -0.2673</td> <td>    0.022</td> <td>  -12.111</td> <td> 0.000</td> <td>   -0.311</td> <td>   -0.224</td>\n",
       "</tr>\n",
       "<tr>\n",
       "  <th>SaleType_CWD</th>         <td>    0.0913</td> <td>    0.086</td> <td>    1.061</td> <td> 0.289</td> <td>   -0.077</td> <td>    0.260</td>\n",
       "</tr>\n",
       "<tr>\n",
       "  <th>SaleType_Con</th>         <td>    0.2341</td> <td>    0.121</td> <td>    1.927</td> <td> 0.054</td> <td>   -0.004</td> <td>    0.472</td>\n",
       "</tr>\n",
       "<tr>\n",
       "  <th>SaleType_ConLD</th>       <td>    0.1259</td> <td>    0.062</td> <td>    2.029</td> <td> 0.043</td> <td>    0.004</td> <td>    0.248</td>\n",
       "</tr>\n",
       "<tr>\n",
       "  <th>SaleType_ConLI</th>       <td>    0.0132</td> <td>    0.078</td> <td>    0.169</td> <td> 0.865</td> <td>   -0.140</td> <td>    0.166</td>\n",
       "</tr>\n",
       "<tr>\n",
       "  <th>SaleType_ConLw</th>       <td>    0.0064</td> <td>    0.078</td> <td>    0.082</td> <td> 0.935</td> <td>   -0.147</td> <td>    0.160</td>\n",
       "</tr>\n",
       "<tr>\n",
       "  <th>SaleType_New</th>         <td>    0.1198</td> <td>    0.031</td> <td>    3.803</td> <td> 0.000</td> <td>    0.058</td> <td>    0.182</td>\n",
       "</tr>\n",
       "<tr>\n",
       "  <th>SaleType_Oth</th>         <td>    0.0471</td> <td>    0.098</td> <td>    0.480</td> <td> 0.631</td> <td>   -0.145</td> <td>    0.239</td>\n",
       "</tr>\n",
       "<tr>\n",
       "  <th>SaleType_WD</th>          <td>    0.0698</td> <td>    0.026</td> <td>    2.676</td> <td> 0.008</td> <td>    0.019</td> <td>    0.121</td>\n",
       "</tr>\n",
       "<tr>\n",
       "  <th>MSZoning_FV</th>          <td>    0.4261</td> <td>    0.077</td> <td>    5.526</td> <td> 0.000</td> <td>    0.275</td> <td>    0.577</td>\n",
       "</tr>\n",
       "<tr>\n",
       "  <th>MSZoning_RH</th>          <td>    0.3502</td> <td>    0.078</td> <td>    4.512</td> <td> 0.000</td> <td>    0.198</td> <td>    0.503</td>\n",
       "</tr>\n",
       "<tr>\n",
       "  <th>MSZoning_RL</th>          <td>    0.3979</td> <td>    0.065</td> <td>    6.151</td> <td> 0.000</td> <td>    0.271</td> <td>    0.525</td>\n",
       "</tr>\n",
       "<tr>\n",
       "  <th>MSZoning_RM</th>          <td>    0.4403</td> <td>    0.061</td> <td>    7.264</td> <td> 0.000</td> <td>    0.321</td> <td>    0.559</td>\n",
       "</tr>\n",
       "<tr>\n",
       "  <th>Street_Pave</th>          <td>   -0.0851</td> <td>    0.072</td> <td>   -1.182</td> <td> 0.237</td> <td>   -0.226</td> <td>    0.056</td>\n",
       "</tr>\n",
       "<tr>\n",
       "  <th>Neighborhood_Blueste</th> <td>    0.0211</td> <td>    0.127</td> <td>    0.167</td> <td> 0.868</td> <td>   -0.228</td> <td>    0.270</td>\n",
       "</tr>\n",
       "<tr>\n",
       "  <th>Neighborhood_BrDale</th>  <td>   -0.1848</td> <td>    0.068</td> <td>   -2.711</td> <td> 0.007</td> <td>   -0.319</td> <td>   -0.051</td>\n",
       "</tr>\n",
       "<tr>\n",
       "  <th>Neighborhood_BrkSide</th> <td>   -0.2596</td> <td>    0.055</td> <td>   -4.735</td> <td> 0.000</td> <td>   -0.367</td> <td>   -0.152</td>\n",
       "</tr>\n",
       "<tr>\n",
       "  <th>Neighborhood_ClearCr</th> <td>   -0.0840</td> <td>    0.058</td> <td>   -1.456</td> <td> 0.146</td> <td>   -0.197</td> <td>    0.029</td>\n",
       "</tr>\n",
       "<tr>\n",
       "  <th>Neighborhood_CollgCr</th> <td>   -0.0304</td> <td>    0.047</td> <td>   -0.641</td> <td> 0.522</td> <td>   -0.123</td> <td>    0.063</td>\n",
       "</tr>\n",
       "<tr>\n",
       "  <th>Neighborhood_Crawfor</th> <td>   -0.0329</td> <td>    0.052</td> <td>   -0.638</td> <td> 0.523</td> <td>   -0.134</td> <td>    0.068</td>\n",
       "</tr>\n",
       "<tr>\n",
       "  <th>Neighborhood_Edwards</th> <td>   -0.3041</td> <td>    0.050</td> <td>   -6.143</td> <td> 0.000</td> <td>   -0.401</td> <td>   -0.207</td>\n",
       "</tr>\n",
       "<tr>\n",
       "  <th>Neighborhood_Gilbert</th> <td>   -0.0391</td> <td>    0.050</td> <td>   -0.777</td> <td> 0.437</td> <td>   -0.138</td> <td>    0.060</td>\n",
       "</tr>\n",
       "<tr>\n",
       "  <th>Neighborhood_IDOTRR</th>  <td>   -0.3842</td> <td>    0.064</td> <td>   -6.014</td> <td> 0.000</td> <td>   -0.510</td> <td>   -0.259</td>\n",
       "</tr>\n",
       "<tr>\n",
       "  <th>Neighborhood_MeadowV</th> <td>   -0.2764</td> <td>    0.064</td> <td>   -4.351</td> <td> 0.000</td> <td>   -0.401</td> <td>   -0.152</td>\n",
       "</tr>\n",
       "<tr>\n",
       "  <th>Neighborhood_Mitchel</th> <td>   -0.1020</td> <td>    0.052</td> <td>   -1.944</td> <td> 0.052</td> <td>   -0.205</td> <td>    0.001</td>\n",
       "</tr>\n",
       "<tr>\n",
       "  <th>Neighborhood_NAmes</th>   <td>   -0.1760</td> <td>    0.048</td> <td>   -3.664</td> <td> 0.000</td> <td>   -0.270</td> <td>   -0.082</td>\n",
       "</tr>\n",
       "<tr>\n",
       "  <th>Neighborhood_NPkVill</th> <td>   -0.0064</td> <td>    0.069</td> <td>   -0.092</td> <td> 0.927</td> <td>   -0.142</td> <td>    0.129</td>\n",
       "</tr>\n",
       "<tr>\n",
       "  <th>Neighborhood_NWAmes</th>  <td>   -0.1069</td> <td>    0.050</td> <td>   -2.122</td> <td> 0.034</td> <td>   -0.206</td> <td>   -0.008</td>\n",
       "</tr>\n",
       "<tr>\n",
       "  <th>Neighborhood_NoRidge</th> <td>    0.1451</td> <td>    0.053</td> <td>    2.737</td> <td> 0.006</td> <td>    0.041</td> <td>    0.249</td>\n",
       "</tr>\n",
       "<tr>\n",
       "  <th>Neighborhood_NridgHt</th> <td>    0.1448</td> <td>    0.048</td> <td>    3.029</td> <td> 0.002</td> <td>    0.051</td> <td>    0.239</td>\n",
       "</tr>\n",
       "<tr>\n",
       "  <th>Neighborhood_OldTown</th> <td>   -0.3735</td> <td>    0.056</td> <td>   -6.686</td> <td> 0.000</td> <td>   -0.483</td> <td>   -0.264</td>\n",
       "</tr>\n",
       "<tr>\n",
       "  <th>Neighborhood_SWISU</th>   <td>   -0.2795</td> <td>    0.058</td> <td>   -4.845</td> <td> 0.000</td> <td>   -0.393</td> <td>   -0.166</td>\n",
       "</tr>\n",
       "<tr>\n",
       "  <th>Neighborhood_Sawyer</th>  <td>   -0.1899</td> <td>    0.051</td> <td>   -3.727</td> <td> 0.000</td> <td>   -0.290</td> <td>   -0.090</td>\n",
       "</tr>\n",
       "<tr>\n",
       "  <th>Neighborhood_SawyerW</th> <td>   -0.0931</td> <td>    0.050</td> <td>   -1.860</td> <td> 0.063</td> <td>   -0.191</td> <td>    0.005</td>\n",
       "</tr>\n",
       "<tr>\n",
       "  <th>Neighborhood_Somerst</th> <td>    0.0380</td> <td>    0.058</td> <td>    0.658</td> <td> 0.511</td> <td>   -0.075</td> <td>    0.151</td>\n",
       "</tr>\n",
       "<tr>\n",
       "  <th>Neighborhood_StoneBr</th> <td>    0.1716</td> <td>    0.053</td> <td>    3.232</td> <td> 0.001</td> <td>    0.067</td> <td>    0.276</td>\n",
       "</tr>\n",
       "<tr>\n",
       "  <th>Neighborhood_Timber</th>  <td>    0.0023</td> <td>    0.054</td> <td>    0.042</td> <td> 0.966</td> <td>   -0.103</td> <td>    0.107</td>\n",
       "</tr>\n",
       "<tr>\n",
       "  <th>Neighborhood_Veenker</th> <td>    0.0510</td> <td>    0.068</td> <td>    0.754</td> <td> 0.451</td> <td>   -0.082</td> <td>    0.184</td>\n",
       "</tr>\n",
       "</table>\n",
       "<table class=\"simpletable\">\n",
       "<tr>\n",
       "  <th>Omnibus:</th>       <td>289.988</td> <th>  Durbin-Watson:     </th> <td>   1.967</td> \n",
       "</tr>\n",
       "<tr>\n",
       "  <th>Prob(Omnibus):</th> <td> 0.000</td>  <th>  Jarque-Bera (JB):  </th> <td>1242.992</td> \n",
       "</tr>\n",
       "<tr>\n",
       "  <th>Skew:</th>          <td>-0.886</td>  <th>  Prob(JB):          </th> <td>1.22e-270</td>\n",
       "</tr>\n",
       "<tr>\n",
       "  <th>Kurtosis:</th>      <td> 7.159</td>  <th>  Cond. No.          </th> <td>    109.</td> \n",
       "</tr>\n",
       "</table><br/><br/>Warnings:<br/>[1] Standard Errors assume that the covariance matrix of the errors is correctly specified."
      ],
      "text/plain": [
       "<class 'statsmodels.iolib.summary.Summary'>\n",
       "\"\"\"\n",
       "                            OLS Regression Results                            \n",
       "==============================================================================\n",
       "Dep. Variable:              SalePrice   R-squared:                       0.839\n",
       "Model:                            OLS   Adj. R-squared:                  0.834\n",
       "Method:                 Least Squares   F-statistic:                     156.5\n",
       "Date:                Wed, 06 Jan 2021   Prob (F-statistic):               0.00\n",
       "Time:                        16:30:47   Log-Likelihood:                 601.65\n",
       "No. Observations:                1460   AIC:                            -1107.\n",
       "Df Residuals:                    1412   BIC:                            -853.6\n",
       "Df Model:                          47                                         \n",
       "Covariance Type:            nonrobust                                         \n",
       "========================================================================================\n",
       "                           coef    std err          t      P>|t|      [0.025      0.975]\n",
       "----------------------------------------------------------------------------------------\n",
       "const                   11.9714      0.105    113.842      0.000      11.765      12.178\n",
       "LotArea_log              0.0412      0.008      5.475      0.000       0.026       0.056\n",
       "1stFlrSF_log             0.0548      0.006      8.584      0.000       0.042       0.067\n",
       "GrLivArea_log            0.1505      0.006     24.114      0.000       0.138       0.163\n",
       "BldgType_2fmCon         -0.0685      0.032     -2.173      0.030      -0.130      -0.007\n",
       "BldgType_Duplex         -0.1679      0.025     -6.813      0.000      -0.216      -0.120\n",
       "BldgType_Twnhs          -0.0561      0.037     -1.513      0.130      -0.129       0.017\n",
       "BldgType_TwnhsE         -0.0205      0.024     -0.858      0.391      -0.067       0.026\n",
       "KitchenQual_Fa          -0.3994      0.035    -11.315      0.000      -0.469      -0.330\n",
       "KitchenQual_Gd          -0.1526      0.020     -7.613      0.000      -0.192      -0.113\n",
       "KitchenQual_TA          -0.2673      0.022    -12.111      0.000      -0.311      -0.224\n",
       "SaleType_CWD             0.0913      0.086      1.061      0.289      -0.077       0.260\n",
       "SaleType_Con             0.2341      0.121      1.927      0.054      -0.004       0.472\n",
       "SaleType_ConLD           0.1259      0.062      2.029      0.043       0.004       0.248\n",
       "SaleType_ConLI           0.0132      0.078      0.169      0.865      -0.140       0.166\n",
       "SaleType_ConLw           0.0064      0.078      0.082      0.935      -0.147       0.160\n",
       "SaleType_New             0.1198      0.031      3.803      0.000       0.058       0.182\n",
       "SaleType_Oth             0.0471      0.098      0.480      0.631      -0.145       0.239\n",
       "SaleType_WD              0.0698      0.026      2.676      0.008       0.019       0.121\n",
       "MSZoning_FV              0.4261      0.077      5.526      0.000       0.275       0.577\n",
       "MSZoning_RH              0.3502      0.078      4.512      0.000       0.198       0.503\n",
       "MSZoning_RL              0.3979      0.065      6.151      0.000       0.271       0.525\n",
       "MSZoning_RM              0.4403      0.061      7.264      0.000       0.321       0.559\n",
       "Street_Pave             -0.0851      0.072     -1.182      0.237      -0.226       0.056\n",
       "Neighborhood_Blueste     0.0211      0.127      0.167      0.868      -0.228       0.270\n",
       "Neighborhood_BrDale     -0.1848      0.068     -2.711      0.007      -0.319      -0.051\n",
       "Neighborhood_BrkSide    -0.2596      0.055     -4.735      0.000      -0.367      -0.152\n",
       "Neighborhood_ClearCr    -0.0840      0.058     -1.456      0.146      -0.197       0.029\n",
       "Neighborhood_CollgCr    -0.0304      0.047     -0.641      0.522      -0.123       0.063\n",
       "Neighborhood_Crawfor    -0.0329      0.052     -0.638      0.523      -0.134       0.068\n",
       "Neighborhood_Edwards    -0.3041      0.050     -6.143      0.000      -0.401      -0.207\n",
       "Neighborhood_Gilbert    -0.0391      0.050     -0.777      0.437      -0.138       0.060\n",
       "Neighborhood_IDOTRR     -0.3842      0.064     -6.014      0.000      -0.510      -0.259\n",
       "Neighborhood_MeadowV    -0.2764      0.064     -4.351      0.000      -0.401      -0.152\n",
       "Neighborhood_Mitchel    -0.1020      0.052     -1.944      0.052      -0.205       0.001\n",
       "Neighborhood_NAmes      -0.1760      0.048     -3.664      0.000      -0.270      -0.082\n",
       "Neighborhood_NPkVill    -0.0064      0.069     -0.092      0.927      -0.142       0.129\n",
       "Neighborhood_NWAmes     -0.1069      0.050     -2.122      0.034      -0.206      -0.008\n",
       "Neighborhood_NoRidge     0.1451      0.053      2.737      0.006       0.041       0.249\n",
       "Neighborhood_NridgHt     0.1448      0.048      3.029      0.002       0.051       0.239\n",
       "Neighborhood_OldTown    -0.3735      0.056     -6.686      0.000      -0.483      -0.264\n",
       "Neighborhood_SWISU      -0.2795      0.058     -4.845      0.000      -0.393      -0.166\n",
       "Neighborhood_Sawyer     -0.1899      0.051     -3.727      0.000      -0.290      -0.090\n",
       "Neighborhood_SawyerW    -0.0931      0.050     -1.860      0.063      -0.191       0.005\n",
       "Neighborhood_Somerst     0.0380      0.058      0.658      0.511      -0.075       0.151\n",
       "Neighborhood_StoneBr     0.1716      0.053      3.232      0.001       0.067       0.276\n",
       "Neighborhood_Timber      0.0023      0.054      0.042      0.966      -0.103       0.107\n",
       "Neighborhood_Veenker     0.0510      0.068      0.754      0.451      -0.082       0.184\n",
       "==============================================================================\n",
       "Omnibus:                      289.988   Durbin-Watson:                   1.967\n",
       "Prob(Omnibus):                  0.000   Jarque-Bera (JB):             1242.992\n",
       "Skew:                          -0.886   Prob(JB):                    1.22e-270\n",
       "Kurtosis:                       7.159   Cond. No.                         109.\n",
       "==============================================================================\n",
       "\n",
       "Warnings:\n",
       "[1] Standard Errors assume that the covariance matrix of the errors is correctly specified.\n",
       "\"\"\""
      ]
     },
     "execution_count": 11,
     "metadata": {},
     "output_type": "execute_result"
    }
   ],
   "source": [
    "# Your code here\n",
    "X_int = sm.add_constant(X)\n",
    "model = sm.OLS(y,X_int).fit()\n",
    "model.summary()"
   ]
  },
  {
   "cell_type": "markdown",
   "metadata": {},
   "source": [
    "## Run the same model in scikit-learn"
   ]
  },
  {
   "cell_type": "code",
   "execution_count": 12,
   "metadata": {},
   "outputs": [
    {
     "data": {
      "text/plain": [
       "LinearRegression()"
      ]
     },
     "execution_count": 12,
     "metadata": {},
     "output_type": "execute_result"
    }
   ],
   "source": [
    "from sklearn.linear_model import LinearRegression\n",
    "linreg = LinearRegression()\n",
    "linreg.fit(X,y)"
   ]
  },
  {
   "cell_type": "code",
   "execution_count": 13,
   "metadata": {},
   "outputs": [],
   "source": [
    "y_pred = linreg.predict(X)"
   ]
  },
  {
   "cell_type": "code",
   "execution_count": 14,
   "metadata": {},
   "outputs": [
    {
     "data": {
      "text/plain": [
       "array([[ 0.04123803,  0.05475763,  0.15047043, -0.06849094, -0.16790514,\n",
       "        -0.05605952, -0.02045271, -0.39939595, -0.15259939, -0.2673328 ,\n",
       "         0.09126571,  0.23411019,  0.12586955,  0.0132195 ,  0.00642584,\n",
       "         0.11977699,  0.04707234,  0.06982549,  0.42606959,  0.35024342,\n",
       "         0.39789053,  0.4403098 , -0.08512761,  0.02114409, -0.18483139,\n",
       "        -0.25957286, -0.08396174, -0.0303953 , -0.0328894 , -0.30408946,\n",
       "        -0.03914605, -0.3842061 , -0.27635109, -0.10198873, -0.17602786,\n",
       "        -0.00637144, -0.10690515,  0.14505362,  0.14483992, -0.37350736,\n",
       "        -0.27952174, -0.18991196, -0.09311116,  0.03795979,  0.17159285,\n",
       "         0.00227384,  0.0509805 ]])"
      ]
     },
     "execution_count": 14,
     "metadata": {},
     "output_type": "execute_result"
    }
   ],
   "source": [
    "# Your code here - Check that the coefficients and intercept are the same as those from Statsmodels\n",
    "linreg.coef_"
   ]
  },
  {
   "cell_type": "code",
   "execution_count": 15,
   "metadata": {},
   "outputs": [
    {
     "data": {
      "text/plain": [
       "array([11.97144414])"
      ]
     },
     "execution_count": 15,
     "metadata": {},
     "output_type": "execute_result"
    }
   ],
   "source": [
    "linreg.intercept_"
   ]
  },
  {
   "cell_type": "code",
   "execution_count": 16,
   "metadata": {},
   "outputs": [
    {
     "data": {
      "text/plain": [
       "0.8389500211207063"
      ]
     },
     "execution_count": 16,
     "metadata": {},
     "output_type": "execute_result"
    }
   ],
   "source": [
    "from sklearn.metrics import r2_score\n",
    "r2_score(y, y_pred)"
   ]
  },
  {
   "cell_type": "code",
   "execution_count": 17,
   "metadata": {},
   "outputs": [
    {
     "data": {
      "text/plain": [
       "<matplotlib.collections.LineCollection at 0x7f7fa79d5b00>"
      ]
     },
     "execution_count": 17,
     "metadata": {},
     "output_type": "execute_result"
    },
    {
     "data": {
      "image/png": "[encoded data removed]",
      "text/plain": [
       "<Figure size 432x288 with 1 Axes>"
      ]
     },
     "metadata": {
      "needs_background": "light"
     },
     "output_type": "display_data"
    }
   ],
   "source": [
    "residuals = y - y_pred\n",
    "plt.scatter(y_pred, residuals)\n",
    "plt.hlines(0, y_pred.min(), y_pred.max())"
   ]
  },
  {
   "cell_type": "markdown",
   "metadata": {},
   "source": [
    "## Predict the house price given the following characteristics (before manipulation!!)\n",
    "\n",
    "Make sure to transform your variables as needed!\n",
    "\n",
    "- LotArea: 14977\n",
    "- 1stFlrSF: 1976\n",
    "- GrLivArea: 1976\n",
    "- BldgType: 1Fam\n",
    "- KitchenQual: Gd\n",
    "- SaleType: New\n",
    "- MSZoning: RL\n",
    "- Street: Pave\n",
    "- Neighborhood: NridgHt"
   ]
  },
  {
   "cell_type": "code",
   "execution_count": 18,
   "metadata": {},
   "outputs": [
    {
     "data": {
      "text/plain": [
       "['LotArea',\n",
       " '1stFlrSF',\n",
       " 'GrLivArea',\n",
       " 'BldgType',\n",
       " 'KitchenQual',\n",
       " 'SaleType',\n",
       " 'MSZoning',\n",
       " 'Street',\n",
       " 'Neighborhood']"
      ]
     },
     "execution_count": 18,
     "metadata": {},
     "output_type": "execute_result"
    }
   ],
   "source": [
    "# getting the used column names for the df\n",
    "used_cols = [*continuous, *categoricals]\n",
    "used_cols"
   ]
  },
  {
   "cell_type": "code",
   "execution_count": 19,
   "metadata": {},
   "outputs": [],
   "source": [
    "# creating an empty dataframe for the new row\n",
    "new_row = pd.DataFrame(columns=used_cols)"
   ]
  },
  {
   "cell_type": "code",
   "execution_count": 20,
   "metadata": {},
   "outputs": [],
   "source": [
    "# adding the details provided into the empty dataframe\n",
    "new_row = new_row.append({\"LotArea\": 14977,\n",
    "                          '1stFlrSF': 1976,\n",
    "                          'GrLivArea': 1976,\n",
    "                          'BldgType': '1Fam',\n",
    "                          'KitchenQual': 'Gd',\n",
    "                          'SaleType': 'New',\n",
    "                          'MSZoning': 'RL',\n",
    "                          'Street': 'Pave',\n",
    "                          'Neighborhood': 'NridgHt'},\n",
    "                          ignore_index=True)"
   ]
  },
  {
   "cell_type": "code",
   "execution_count": 21,
   "metadata": {},
   "outputs": [
    {
     "data": {
      "text/html": [
       "<div>\n",
       "<style scoped>\n",
       "    .dataframe tbody tr th:only-of-type {\n",
       "        vertical-align: middle;\n",
       "    }\n",
       "\n",
       "    .dataframe tbody tr th {\n",
       "        vertical-align: top;\n",
       "    }\n",
       "\n",
       "    .dataframe thead th {\n",
       "        text-align: right;\n",
       "    }\n",
       "</style>\n",
       "<table border=\"1\" class=\"dataframe\">\n",
       "  <thead>\n",
       "    <tr style=\"text-align: right;\">\n",
       "      <th></th>\n",
       "      <th>LotArea</th>\n",
       "      <th>1stFlrSF</th>\n",
       "      <th>GrLivArea</th>\n",
       "      <th>BldgType</th>\n",
       "      <th>KitchenQual</th>\n",
       "      <th>SaleType</th>\n",
       "      <th>MSZoning</th>\n",
       "      <th>Street</th>\n",
       "      <th>Neighborhood</th>\n",
       "    </tr>\n",
       "  </thead>\n",
       "  <tbody>\n",
       "    <tr>\n",
       "      <th>0</th>\n",
       "      <td>14977</td>\n",
       "      <td>1976</td>\n",
       "      <td>1976</td>\n",
       "      <td>1Fam</td>\n",
       "      <td>Gd</td>\n",
       "      <td>New</td>\n",
       "      <td>RL</td>\n",
       "      <td>Pave</td>\n",
       "      <td>NridgHt</td>\n",
       "    </tr>\n",
       "  </tbody>\n",
       "</table>\n",
       "</div>"
      ],
      "text/plain": [
       "  LotArea 1stFlrSF GrLivArea BldgType KitchenQual SaleType MSZoning Street  \\\n",
       "0   14977     1976      1976     1Fam          Gd      New       RL   Pave   \n",
       "\n",
       "  Neighborhood  \n",
       "0      NridgHt  "
      ]
     },
     "execution_count": 21,
     "metadata": {},
     "output_type": "execute_result"
    }
   ],
   "source": [
    "new_row"
   ]
  },
  {
   "cell_type": "code",
   "execution_count": 22,
   "metadata": {},
   "outputs": [],
   "source": [
    "# first we'll tackle the continuous columns\n",
    "new_row_cont = new_row[continuous]"
   ]
  },
  {
   "cell_type": "code",
   "execution_count": 23,
   "metadata": {},
   "outputs": [],
   "source": [
    "# log features\n",
    "new_row_log = np.log(new_row_cont.astype(float)) # won't work unless float\n",
    "\n",
    "log_names = [f'{column}_log' for column in new_row_cont.columns]\n",
    "# new_row_log.columns = log_names\n",
    "\n",
    "# normalizing... can just use our scaler\n",
    "\n",
    "new_row_log = scaler.transform(new_row_log)"
   ]
  },
  {
   "cell_type": "code",
   "execution_count": 24,
   "metadata": {},
   "outputs": [
    {
     "data": {
      "text/plain": [
       "array([[0.97324786, 1.83025654, 0.96286942]])"
      ]
     },
     "execution_count": 24,
     "metadata": {},
     "output_type": "execute_result"
    }
   ],
   "source": [
    "new_row_log"
   ]
  },
  {
   "cell_type": "code",
   "execution_count": 25,
   "metadata": {},
   "outputs": [
    {
     "data": {
      "text/html": [
       "<div>\n",
       "<style scoped>\n",
       "    .dataframe tbody tr th:only-of-type {\n",
       "        vertical-align: middle;\n",
       "    }\n",
       "\n",
       "    .dataframe tbody tr th {\n",
       "        vertical-align: top;\n",
       "    }\n",
       "\n",
       "    .dataframe thead th {\n",
       "        text-align: right;\n",
       "    }\n",
       "</style>\n",
       "<table border=\"1\" class=\"dataframe\">\n",
       "  <thead>\n",
       "    <tr style=\"text-align: right;\">\n",
       "      <th></th>\n",
       "      <th>LotArea_log</th>\n",
       "      <th>1stFlrSF_log</th>\n",
       "      <th>GrLivArea_log</th>\n",
       "    </tr>\n",
       "  </thead>\n",
       "  <tbody>\n",
       "    <tr>\n",
       "      <th>0</th>\n",
       "      <td>0.973248</td>\n",
       "      <td>1.830257</td>\n",
       "      <td>0.962869</td>\n",
       "    </tr>\n",
       "  </tbody>\n",
       "</table>\n",
       "</div>"
      ],
      "text/plain": [
       "   LotArea_log  1stFlrSF_log  GrLivArea_log\n",
       "0     0.973248      1.830257       0.962869"
      ]
     },
     "execution_count": 25,
     "metadata": {},
     "output_type": "execute_result"
    }
   ],
   "source": [
    "# putting the results in a dataframe\n",
    "new_row_log_norm = pd.DataFrame(columns=log_names)\n",
    "new_row_log_norm = new_row_log_norm.append(dict(zip(log_names, new_row_log[0])), ignore_index=True)\n",
    "new_row_log_norm"
   ]
  },
  {
   "cell_type": "code",
   "execution_count": 26,
   "metadata": {},
   "outputs": [],
   "source": [
    "# now time for the categoricals\n",
    "new_row_cat = new_row[categoricals]"
   ]
  },
  {
   "cell_type": "code",
   "execution_count": 27,
   "metadata": {},
   "outputs": [],
   "source": [
    "new_row_ohe = pd.DataFrame(columns = ames_ohe.columns)"
   ]
  },
  {
   "cell_type": "code",
   "execution_count": 28,
   "metadata": {},
   "outputs": [],
   "source": [
    "# using complicated for loops to ohe the new row\n",
    "ohe_dict = {}\n",
    "for col_type in new_row_cat.columns:\n",
    "    col_list = [c for c in new_row_ohe.columns.to_list() if col_type in c]\n",
    "    for x in col_list:\n",
    "        if new_row_cat[col_type][0] in x:\n",
    "            ohe_dict[x] = 1\n",
    "        else:\n",
    "            ohe_dict[x] = 0"
   ]
  },
  {
   "cell_type": "code",
   "execution_count": 29,
   "metadata": {},
   "outputs": [
    {
     "data": {
      "text/html": [
       "<div>\n",
       "<style scoped>\n",
       "    .dataframe tbody tr th:only-of-type {\n",
       "        vertical-align: middle;\n",
       "    }\n",
       "\n",
       "    .dataframe tbody tr th {\n",
       "        vertical-align: top;\n",
       "    }\n",
       "\n",
       "    .dataframe thead th {\n",
       "        text-align: right;\n",
       "    }\n",
       "</style>\n",
       "<table border=\"1\" class=\"dataframe\">\n",
       "  <thead>\n",
       "    <tr style=\"text-align: right;\">\n",
       "      <th></th>\n",
       "      <th>BldgType_2fmCon</th>\n",
       "      <th>BldgType_Duplex</th>\n",
       "      <th>BldgType_Twnhs</th>\n",
       "      <th>BldgType_TwnhsE</th>\n",
       "      <th>KitchenQual_Fa</th>\n",
       "      <th>KitchenQual_Gd</th>\n",
       "      <th>KitchenQual_TA</th>\n",
       "      <th>SaleType_CWD</th>\n",
       "      <th>SaleType_Con</th>\n",
       "      <th>SaleType_ConLD</th>\n",
       "      <th>...</th>\n",
       "      <th>Neighborhood_NoRidge</th>\n",
       "      <th>Neighborhood_NridgHt</th>\n",
       "      <th>Neighborhood_OldTown</th>\n",
       "      <th>Neighborhood_SWISU</th>\n",
       "      <th>Neighborhood_Sawyer</th>\n",
       "      <th>Neighborhood_SawyerW</th>\n",
       "      <th>Neighborhood_Somerst</th>\n",
       "      <th>Neighborhood_StoneBr</th>\n",
       "      <th>Neighborhood_Timber</th>\n",
       "      <th>Neighborhood_Veenker</th>\n",
       "    </tr>\n",
       "  </thead>\n",
       "  <tbody>\n",
       "    <tr>\n",
       "      <th>0</th>\n",
       "      <td>0</td>\n",
       "      <td>0</td>\n",
       "      <td>0</td>\n",
       "      <td>0</td>\n",
       "      <td>0</td>\n",
       "      <td>1</td>\n",
       "      <td>0</td>\n",
       "      <td>0</td>\n",
       "      <td>0</td>\n",
       "      <td>0</td>\n",
       "      <td>...</td>\n",
       "      <td>0</td>\n",
       "      <td>1</td>\n",
       "      <td>0</td>\n",
       "      <td>0</td>\n",
       "      <td>0</td>\n",
       "      <td>0</td>\n",
       "      <td>0</td>\n",
       "      <td>0</td>\n",
       "      <td>0</td>\n",
       "      <td>0</td>\n",
       "    </tr>\n",
       "  </tbody>\n",
       "</table>\n",
       "<p>1 rows × 44 columns</p>\n",
       "</div>"
      ],
      "text/plain": [
       "  BldgType_2fmCon BldgType_Duplex BldgType_Twnhs BldgType_TwnhsE  \\\n",
       "0               0               0              0               0   \n",
       "\n",
       "  KitchenQual_Fa KitchenQual_Gd KitchenQual_TA SaleType_CWD SaleType_Con  \\\n",
       "0              0              1              0            0            0   \n",
       "\n",
       "  SaleType_ConLD  ... Neighborhood_NoRidge Neighborhood_NridgHt  \\\n",
       "0              0  ...                    0                    1   \n",
       "\n",
       "  Neighborhood_OldTown Neighborhood_SWISU Neighborhood_Sawyer  \\\n",
       "0                    0                  0                   0   \n",
       "\n",
       "  Neighborhood_SawyerW Neighborhood_Somerst Neighborhood_StoneBr  \\\n",
       "0                    0                    0                    0   \n",
       "\n",
       "  Neighborhood_Timber Neighborhood_Veenker  \n",
       "0                   0                    0  \n",
       "\n",
       "[1 rows x 44 columns]"
      ]
     },
     "execution_count": 29,
     "metadata": {},
     "output_type": "execute_result"
    }
   ],
   "source": [
    "# putting the results in a dataframe\n",
    "\n",
    "new_row_ohe = new_row_ohe.append(ohe_dict, ignore_index=True)\n",
    "new_row_ohe"
   ]
  },
  {
   "cell_type": "code",
   "execution_count": 30,
   "metadata": {},
   "outputs": [
    {
     "data": {
      "text/html": [
       "<div>\n",
       "<style scoped>\n",
       "    .dataframe tbody tr th:only-of-type {\n",
       "        vertical-align: middle;\n",
       "    }\n",
       "\n",
       "    .dataframe tbody tr th {\n",
       "        vertical-align: top;\n",
       "    }\n",
       "\n",
       "    .dataframe thead th {\n",
       "        text-align: right;\n",
       "    }\n",
       "</style>\n",
       "<table border=\"1\" class=\"dataframe\">\n",
       "  <thead>\n",
       "    <tr style=\"text-align: right;\">\n",
       "      <th></th>\n",
       "      <th>LotArea_log</th>\n",
       "      <th>1stFlrSF_log</th>\n",
       "      <th>GrLivArea_log</th>\n",
       "      <th>BldgType_2fmCon</th>\n",
       "      <th>BldgType_Duplex</th>\n",
       "      <th>BldgType_Twnhs</th>\n",
       "      <th>BldgType_TwnhsE</th>\n",
       "      <th>KitchenQual_Fa</th>\n",
       "      <th>KitchenQual_Gd</th>\n",
       "      <th>KitchenQual_TA</th>\n",
       "      <th>...</th>\n",
       "      <th>Neighborhood_NoRidge</th>\n",
       "      <th>Neighborhood_NridgHt</th>\n",
       "      <th>Neighborhood_OldTown</th>\n",
       "      <th>Neighborhood_SWISU</th>\n",
       "      <th>Neighborhood_Sawyer</th>\n",
       "      <th>Neighborhood_SawyerW</th>\n",
       "      <th>Neighborhood_Somerst</th>\n",
       "      <th>Neighborhood_StoneBr</th>\n",
       "      <th>Neighborhood_Timber</th>\n",
       "      <th>Neighborhood_Veenker</th>\n",
       "    </tr>\n",
       "  </thead>\n",
       "  <tbody>\n",
       "    <tr>\n",
       "      <th>0</th>\n",
       "      <td>0.973248</td>\n",
       "      <td>1.830257</td>\n",
       "      <td>0.962869</td>\n",
       "      <td>0</td>\n",
       "      <td>0</td>\n",
       "      <td>0</td>\n",
       "      <td>0</td>\n",
       "      <td>0</td>\n",
       "      <td>1</td>\n",
       "      <td>0</td>\n",
       "      <td>...</td>\n",
       "      <td>0</td>\n",
       "      <td>1</td>\n",
       "      <td>0</td>\n",
       "      <td>0</td>\n",
       "      <td>0</td>\n",
       "      <td>0</td>\n",
       "      <td>0</td>\n",
       "      <td>0</td>\n",
       "      <td>0</td>\n",
       "      <td>0</td>\n",
       "    </tr>\n",
       "  </tbody>\n",
       "</table>\n",
       "<p>1 rows × 47 columns</p>\n",
       "</div>"
      ],
      "text/plain": [
       "   LotArea_log  1stFlrSF_log  GrLivArea_log BldgType_2fmCon BldgType_Duplex  \\\n",
       "0     0.973248      1.830257       0.962869               0               0   \n",
       "\n",
       "  BldgType_Twnhs BldgType_TwnhsE KitchenQual_Fa KitchenQual_Gd KitchenQual_TA  \\\n",
       "0              0               0              0              1              0   \n",
       "\n",
       "   ... Neighborhood_NoRidge Neighborhood_NridgHt Neighborhood_OldTown  \\\n",
       "0  ...                    0                    1                    0   \n",
       "\n",
       "  Neighborhood_SWISU Neighborhood_Sawyer Neighborhood_SawyerW  \\\n",
       "0                  0                   0                    0   \n",
       "\n",
       "  Neighborhood_Somerst Neighborhood_StoneBr Neighborhood_Timber  \\\n",
       "0                    0                    0                   0   \n",
       "\n",
       "  Neighborhood_Veenker  \n",
       "0                    0  \n",
       "\n",
       "[1 rows x 47 columns]"
      ]
     },
     "execution_count": 30,
     "metadata": {},
     "output_type": "execute_result"
    }
   ],
   "source": [
    "# putting together this row's data - both continuous and categorical\n",
    "new_row_processed = pd.concat([new_row_log_norm, new_row_ohe], axis=1)\n",
    "new_row_processed"
   ]
  },
  {
   "cell_type": "code",
   "execution_count": 31,
   "metadata": {},
   "outputs": [
    {
     "data": {
      "text/plain": [
       "array([[321728.49636656]])"
      ]
     },
     "execution_count": 31,
     "metadata": {},
     "output_type": "execute_result"
    }
   ],
   "source": [
    "# now - FINALLY - we can model\n",
    "\n",
    "new_row_pred_log = linreg.predict(new_row_processed)\n",
    "\n",
    "np.exp(new_row_pred_log)"
   ]
  },
  {
   "cell_type": "markdown",
   "metadata": {},
   "source": [
    "## Summary\n",
    "Congratulations! You pre-processed the Ames Housing data using scaling and standardization. You also fitted your first multiple linear regression model on the Ames Housing data using statsmodels and scikit-learn!"
   ]
  }
 ],
 "metadata": {
  "kernelspec": {
   "display_name": "Python 3",
   "language": "python",
   "name": "python3"
  },
  "language_info": {
   "codemirror_mode": {
    "name": "ipython",
    "version": 3
   },
   "file_extension": ".py",
   "mimetype": "text/x-python",
   "name": "python",
   "nbconvert_exporter": "python",
   "pygments_lexer": "ipython3",
   "version": "3.6.9"
  }
 },
 "nbformat": 4,
 "nbformat_minor": 2
}
